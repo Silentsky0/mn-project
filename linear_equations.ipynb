{
  "nbformat": 4,
  "nbformat_minor": 0,
  "metadata": {
    "colab": {
      "name": "linear-equations.ipynb",
      "provenance": [],
      "authorship_tag": "ABX9TyPF8R17EIdhIRG8g5+EXF1m",
      "include_colab_link": true
    },
    "kernelspec": {
      "name": "python3",
      "display_name": "Python 3"
    },
    "language_info": {
      "name": "python"
    }
  },
  "cells": [
    {
      "cell_type": "markdown",
      "metadata": {
        "id": "view-in-github",
        "colab_type": "text"
      },
      "source": [
        "<a href=\"https://colab.research.google.com/github/Silentsky0/mn-project/blob/main/linear_equations.ipynb\" target=\"_parent\"><img src=\"https://colab.research.google.com/assets/colab-badge.svg\" alt=\"Open In Colab\"/></a>"
      ]
    },
    {
      "cell_type": "code",
      "execution_count": null,
      "metadata": {
        "id": "eVVs-SG0llNu"
      },
      "outputs": [],
      "source": [
        "import numpy as np\n",
        "import math\n",
        "from numpy.linalg import norm, inv"
      ]
    },
    {
      "cell_type": "code",
      "source": [
        "# id = 184465\n",
        "N = 9 * 6 * 5\n",
        "\n",
        "E = 4\n",
        "F = 4\n",
        "\n",
        "#N = 10"
      ],
      "metadata": {
        "id": "QpyGZdo-lvQg"
      },
      "execution_count": null,
      "outputs": []
    },
    {
      "cell_type": "code",
      "source": [
        "def create_matrix():\n",
        "    matrix = np.zeros((N, N))\n",
        "\n",
        "    a1 = 5 + E\n",
        "    a2 = a3 = -1\n",
        "\n",
        "    center_index = 0\n",
        "\n",
        "    for row in matrix:\n",
        "        if center_index - 2 >= 0:\n",
        "            row[center_index - 2] = a3\n",
        "        if center_index - 1 >= 0:\n",
        "            row[center_index - 1] = a2\n",
        "        row[center_index] = a1\n",
        "        if center_index + 1 < N:\n",
        "            row[center_index + 1] = a2\n",
        "        if center_index + 2 < N:\n",
        "            row[center_index + 2] = a3\n",
        "\n",
        "        center_index += 1\n",
        "    \n",
        "    return matrix"
      ],
      "metadata": {
        "id": "ly5uM-uNpsUL"
      },
      "execution_count": null,
      "outputs": []
    },
    {
      "cell_type": "code",
      "source": [
        "def create_vector_b():\n",
        "    vec = [math.sin(i * (F + 1)) for i in range(1, N + 1)]\n",
        "\n",
        "    return np.array(vec)\n"
      ],
      "metadata": {
        "id": "eFM8HKXjqX3X"
      },
      "execution_count": null,
      "outputs": []
    },
    {
      "cell_type": "code",
      "source": [
        "def create_vector_r():\n",
        "    vec = [1 for i in range(0, N)]\n",
        "\n",
        "    return np.array(vec).astype(float)"
      ],
      "metadata": {
        "id": "frtmBBu3fEop"
      },
      "execution_count": null,
      "outputs": []
    },
    {
      "cell_type": "code",
      "source": [
        "def get_LUD(matrix):\n",
        "    D = np.zeros((matrix.shape[0], matrix.shape[1]))\n",
        "    U = np.zeros((matrix.shape[0], matrix.shape[1]))\n",
        "    L = np.zeros((matrix.shape[0], matrix.shape[1]))\n",
        "\n",
        "    for i in range(0, matrix.shape[0]):\n",
        "        for j in range(0, matrix.shape[1]):\n",
        "            if i < j: # upper triangular matrix\n",
        "                U[i, j] = matrix[i, j]\n",
        "            if i == j: # diagonal\n",
        "                D[i, j] = matrix[i, j]\n",
        "            if i > j: # lower triangular matrix\n",
        "                L[i, j] = matrix[i, j]\n",
        "\n",
        "    return (L, U, D)"
      ],
      "metadata": {
        "id": "aE1v1qcFgcaP"
      },
      "execution_count": null,
      "outputs": []
    },
    {
      "cell_type": "code",
      "source": [
        "# A - matrix\n",
        "# b - vector_b\n",
        "\n",
        "matrix = create_matrix()\n",
        "\n",
        "vector_b = create_vector_b()\n",
        "\n",
        "#print(f\"{matrix}\\n\")\n",
        "\n",
        "#print(f\"{vector_b}\\n\")\n",
        "\n",
        "#vector_r = create_vector_r()\n",
        "#vector_r2 = create_vector_r()\n",
        "\n",
        "#print(f\"{vector_r}\")\n",
        "\n",
        "L, U, D = get_LUD(matrix)\n",
        "\n",
        "#print(f\"{L}\\n\\n{U}\\n\\n{D}\")\n"
      ],
      "metadata": {
        "id": "dvMh6tFNmPLx"
      },
      "execution_count": null,
      "outputs": []
    },
    {
      "cell_type": "code",
      "source": [
        "def gauss_seidl(threshold):\n",
        "    vector_r = create_vector_r()\n",
        "\n",
        "    res = np.subtract(np.matmul(matrix, vector_r), vector_b)\n",
        "    iterations = 0\n",
        "\n",
        "    while(norm(res) > threshold):\n",
        "        # gauss-seidl\n",
        "        res = np.subtract(np.matmul(matrix, vector_r), vector_b)\n",
        "        vector_r = np.add(np.matmul(-1 * inv(np.add(D, L)), (np.matmul(U, vector_r))), np.matmul(inv(np.add(D, L)), vector_b))\n",
        "        iterations += 1\n",
        "\n",
        "    return (vector_r, iterations)\n",
        "\n",
        "\n",
        "def jacobi(threshold):\n",
        "    vector_r = create_vector_r()\n",
        "\n",
        "    res = np.subtract(np.matmul(matrix, vector_r), vector_b)\n",
        "    iterations = 0\n",
        "\n",
        "    while(norm(res) > threshold):\n",
        "        # jacobi\n",
        "        res = np.subtract(np.matmul(matrix, vector_r), vector_b)\n",
        "        vector_r = np.add(np.matmul(np.matmul(-1 * inv(D), np.add(L, U)), vector_r), np.matmul(inv(D), vector_b))\n",
        "        iterations += 1\n",
        "\n",
        "    return (vector_r, iterations)\n",
        "\n",
        "threshold = 10**-9\n",
        "\n",
        "result, iterations = gauss_seidl(threshold)\n",
        "\n",
        "result2, iterations2 = jacobi(threshold)\n",
        "\n",
        "print(iterations)\n",
        "print('\\n')\n",
        "print(iterations2)"
      ],
      "metadata": {
        "colab": {
          "base_uri": "https://localhost:8080/"
        },
        "id": "8luDpko6e0U4",
        "outputId": "eb8ebdc0-423b-4753-b4ef-ee0ef50ae694"
      },
      "execution_count": null,
      "outputs": [
        {
          "output_type": "stream",
          "name": "stdout",
          "text": [
            "22\n",
            "\n",
            "\n",
            "32\n"
          ]
        }
      ]
    }
  ]
}